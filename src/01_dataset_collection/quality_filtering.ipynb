{
 "cells": [
  {
   "cell_type": "code",
   "execution_count": 4,
   "metadata": {
    "pycharm": {
     "name": "#%%\n"
    }
   },
   "outputs": [],
   "source": [
    "from datetime import date\n",
    "import glob\n",
    "import matplotlib.pyplot as plt\n",
    "import matplotlib.image as mpimg\n",
    "import pandas as pd\n",
    "import time\n",
    "\n",
    "from commons import Commons\n",
    "\n",
    "\n",
    "class QualityCheck(Commons):\n",
    "    def __init__(self, project_dir, job_id, num_processes, marker):\n",
    "        super().__init__(project_dir, job_id, num_processes)\n",
    "\n",
    "        self.marker = marker\n",
    "\n",
    "    def check_quality(self):\n",
    "        records = pd.read_csv(glob.glob(f\"{self.dir_merged_recs}/{self.job_id}_{self.marker}.tsv\")[0],  header=0, sep='\\t')\n",
    "        self.check_dataset(records)\n",
    "\n",
    "    def check_dataset(self, records):\n",
    "        if 'qualified' not in records.columns:\n",
    "            records['qualified'] = None\n",
    "            records['dataset'] = None\n",
    "            \n",
    "        species_total = len(records['species_name'].unique())\n",
    "            \n",
    "        for i, species in enumerate(sorted(records['species_name'].unique())):\n",
    "            print(f\"Species {i} of {species_total}\")\n",
    "            \n",
    "            test_rec_cnt = len(records[(records['species_name'] == species) & (records['qualified'].notnull())])\n",
    "            if test_rec_cnt >= 2: continue\n",
    "            \n",
    "            for index, row in records[records['species_name'] == species].iterrows():\n",
    "                if test_rec_cnt == 2 or pd.isnull(row['image_url']) or not pd.isnull(row['qualified']): continue\n",
    "\n",
    "                qc = self.check_image(row)\n",
    "                if qc:\n",
    "                    records.loc[records['record_id'] == row['record_id'], ['dataset', 'qualified']] = 'val', date.today()\n",
    "                    test_rec_cnt += 1\n",
    "                else:\n",
    "                    records.loc[records['record_id'] == row['record_id'], ['image_url', 'image_path', 'downloaded', 'duplicate']] = None, None, False, False\n",
    "\n",
    "            records.to_csv(f\"{self.dir_merged_recs}/{self.job_id}_{self.marker}.tsv\", header=True,\n",
    "                           index=False, sep='\\t')\n",
    "\n",
    "    def check_image(self, row):\n",
    "        image_path = row['image_path']\n",
    "        print(f\"Species: {row['species_name']}\")\n",
    "        print(f\"Image path: {image_path}\")\n",
    "        print(f\"Image url: {row['image_url']}\")\n",
    "        print(f\"Record id: {row['record_id']}\")\n",
    "\n",
    "        plt.imshow(mpimg.imread(image_path))\n",
    "        plt.show()\n",
    "        time.sleep(1.5)\n",
    "\n",
    "        qc = input('Quality image? Type nothing if you do not want to use this picture.\\n')\n",
    "        if qc == 'y':\n",
    "            return True\n",
    "        else:\n",
    "            print(f\"Made a mistake? Here's the record id: {row['record_id']}\")\n",
    "            return False\n",
    "    \n",
    "    def add_train(self):\n",
    "        records = pd.read_csv(f\"{self.dir_merged_recs}/{self.job_id}_{self.marker}.tsv\",  header=0, sep='\\t')\n",
    "        records = records.loc[records['image_url'].notnull(), :].copy()\n",
    "        records.loc[records['dataset'].isnull(), 'dataset'] = 'train'\n",
    "        records.to_csv(f\"{self.dir_merged_recs}/{self.job_id}_{self.marker}.tsv\", sep='\\t', header=True, index=False)"
   ]
  },
  {
   "cell_type": "code",
   "execution_count": null,
   "outputs": [],
   "source": [
    "NUM_PROCESSES = 4\n",
    "JOB_ID = ''\n",
    "PROJECT_DIR = ''\n",
    "MARKER = ''\n",
    "\n",
    "qc = QualityCheck(PROJECT_DIR, JOB_ID, NUM_PROCESSES, MARKER)\n",
    "\n",
    "qc.check_quality()"
   ],
   "metadata": {
    "collapsed": false,
    "pycharm": {
     "name": "#%%\n"
    }
   }
  },
  {
   "cell_type": "code",
   "execution_count": 6,
   "metadata": {
    "pycharm": {
     "name": "#%%\n"
    }
   },
   "outputs": [],
   "source": [
    "qc.add_train()"
   ]
  },
  {
   "cell_type": "code",
   "execution_count": null,
   "metadata": {
    "pycharm": {
     "name": "#%%\n"
    }
   },
   "outputs": [],
   "source": []
  },
  {
   "cell_type": "code",
   "execution_count": null,
   "metadata": {
    "pycharm": {
     "name": "#%%\n"
    }
   },
   "outputs": [],
   "source": []
  }
 ],
 "metadata": {
  "kernelspec": {
   "display_name": "Python 3 (ipykernel)",
   "language": "python",
   "name": "python3"
  },
  "language_info": {
   "codemirror_mode": {
    "name": "ipython",
    "version": 3
   },
   "file_extension": ".py",
   "mimetype": "text/x-python",
   "name": "python",
   "nbconvert_exporter": "python",
   "pygments_lexer": "ipython3",
   "version": "3.10.8"
  }
 },
 "nbformat": 4,
 "nbformat_minor": 1
}